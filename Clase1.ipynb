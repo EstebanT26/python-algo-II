{
 "cells": [
  {
   "cell_type": "markdown",
   "metadata": {},
   "source": [
    "# clase 1 "
   ]
  },
  {
   "cell_type": "markdown",
   "metadata": {},
   "source": [
    "esta clase es para aprendr las bases python"
   ]
  },
  {
   "cell_type": "code",
   "execution_count": 1,
   "metadata": {},
   "outputs": [
    {
     "name": "stdout",
     "output_type": "stream",
     "text": [
      "Es mayor  40\n"
     ]
    }
   ],
   "source": [
    "A = 40\n",
    "B = 10\n",
    "# Comparacion \n",
    "if(A>B):\n",
    "    print(\"Es mayor \" , A)\n",
    "else:\n",
    "    print(\"Es mayor \" , B)"
   ]
  },
  {
   "cell_type": "code",
   "execution_count": 9,
   "metadata": {},
   "outputs": [],
   "source": [
    "# tipos de variables\n",
    "A = \"carlos\"\n",
    "carlos = 12\n",
    "stra = 1.79\n",
    "deporte = False"
   ]
  },
  {
   "cell_type": "code",
   "execution_count": 10,
   "metadata": {},
   "outputs": [
    {
     "data": {
      "text/plain": [
       "str"
      ]
     },
     "execution_count": 10,
     "metadata": {},
     "output_type": "execute_result"
    }
   ],
   "source": [
    "type(A)"
   ]
  },
  {
   "cell_type": "code",
   "execution_count": 11,
   "metadata": {},
   "outputs": [
    {
     "data": {
      "text/plain": [
       "int"
      ]
     },
     "execution_count": 11,
     "metadata": {},
     "output_type": "execute_result"
    }
   ],
   "source": [
    "type(carlos)"
   ]
  },
  {
   "cell_type": "code",
   "execution_count": 12,
   "metadata": {},
   "outputs": [
    {
     "data": {
      "text/plain": [
       "float"
      ]
     },
     "execution_count": 12,
     "metadata": {},
     "output_type": "execute_result"
    }
   ],
   "source": [
    "type(stra)"
   ]
  },
  {
   "cell_type": "code",
   "execution_count": 13,
   "metadata": {},
   "outputs": [
    {
     "data": {
      "text/plain": [
       "bool"
      ]
     },
     "execution_count": 13,
     "metadata": {},
     "output_type": "execute_result"
    }
   ],
   "source": [
    "type(deporte)"
   ]
  },
  {
   "cell_type": "markdown",
   "metadata": {},
   "source": [
    "# CLASE 2"
   ]
  },
  {
   "cell_type": "code",
   "execution_count": null,
   "metadata": {},
   "outputs": [],
   "source": [
    "B = (2,3,7) #inmutable no cambian (tupla)\n",
    "D = [\"juan\",\"carlos\"] #Es modificable (lista)\n",
    "E = { \"klk\" : 7 } #Diccionario\n",
    "\n",
    "# ALMACENAMIENTO DE MULTIPLES VALORES\n",
    "\n",
    "\n",
    "\n"
   ]
  },
  {
   "cell_type": "code",
   "execution_count": 17,
   "metadata": {},
   "outputs": [
    {
     "name": "stdout",
     "output_type": "stream",
     "text": [
      "la variable es:  <class 'int'>\n",
      "la variable es:  <class 'str'>\n",
      "la variable es:  <class 'float'>\n",
      "la variable es:  <class 'bool'>\n"
     ]
    }
   ],
   "source": [
    "print(\"la variable es: \", type(12))\n",
    "print(\"la variable es: \", type(\"arroz\"))\n",
    "print(\"la variable es: \", type(12.3))\n",
    "print(\"la variable es: \", type(True))"
   ]
  },
  {
   "cell_type": "markdown",
   "metadata": {},
   "source": [
    "# variables que almacenan multiples datos "
   ]
  },
  {
   "cell_type": "code",
   "execution_count": 20,
   "metadata": {},
   "outputs": [
    {
     "name": "stdout",
     "output_type": "stream",
     "text": [
      "La variable es de tipo:  <class 'tuple'>\n"
     ]
    }
   ],
   "source": [
    "# creacion de una tupla\n",
    "No_modificable = (1,2,3,4)\n",
    "#mostrar el tipo de la variable\n",
    "print(\"La variable es de tipo: \", type(No_modificable))\n"
   ]
  },
  {
   "cell_type": "code",
   "execution_count": null,
   "metadata": {},
   "outputs": [
    {
     "name": "stdout",
     "output_type": "stream",
     "text": [
      "la variable es tipo: <class 'list'>\n"
     ]
    }
   ],
   "source": [
    "# creacion de una lista\n",
    "ld= [\"Valentina\",\"laura\",\"danna\", \"isabella\"]\n",
    "# mostrar el tipo de variable\n",
    "print(\"la variable es tipo:\", type(ld))"
   ]
  },
  {
   "cell_type": "code",
   "execution_count": 25,
   "metadata": {},
   "outputs": [
    {
     "name": "stdout",
     "output_type": "stream",
     "text": [
      "la variable es de tipo:  <class 'dict'> contiene lo siguiente:  {'juan': 1, 'andres': 3.0, 'ivan': 2.4, 'danna': 4, 'valen': 5, 'gabi': 6, 'yo': 7, 'Camila': 123}\n"
     ]
    }
   ],
   "source": [
    "# creacion de un diccionario\n",
    "dic = { \"juan\" : 1,\n",
    "        \"andres\" : 3.0,\n",
    "       \"ivan\" : 2.4, \n",
    "       \"danna\" : 4,\n",
    "       \"valen\" : 5,\n",
    "       \"gabi\" : 6,\n",
    "       \"yo\" : 7,\n",
    "       \"Camila\" : 123\n",
    "       }\n",
    "print(\"la variable es de tipo: \",type(dic) , \"contiene lo siguiente: \", (dic))\n"
   ]
  },
  {
   "cell_type": "code",
   "execution_count": 28,
   "metadata": {},
   "outputs": [
    {
     "ename": "ModuleNotFoundError",
     "evalue": "No module named 'pandas'",
     "output_type": "error",
     "traceback": [
      "\u001b[31m---------------------------------------------------------------------------\u001b[39m",
      "\u001b[31mModuleNotFoundError\u001b[39m                       Traceback (most recent call last)",
      "\u001b[36mCell\u001b[39m\u001b[36m \u001b[39m\u001b[32mIn[28]\u001b[39m\u001b[32m, line 2\u001b[39m\n\u001b[32m      1\u001b[39m \u001b[38;5;66;03m# importando libreria \u001b[39;00m\n\u001b[32m----> \u001b[39m\u001b[32m2\u001b[39m \u001b[38;5;28;01mimport\u001b[39;00m\u001b[38;5;250m \u001b[39m\u001b[34;01mpandas\u001b[39;00m\u001b[38;5;250m \u001b[39m\u001b[38;5;28;01mas\u001b[39;00m\u001b[38;5;250m \u001b[39m\u001b[34;01mpd\u001b[39;00m \n\u001b[32m      3\u001b[39m datos = {\n\u001b[32m      4\u001b[39m     \u001b[33m\"\u001b[39m\u001b[33mnombre\u001b[39m\u001b[33m\"\u001b[39m : [\u001b[33m\"\u001b[39m\u001b[33mjuan\u001b[39m\u001b[33m\"\u001b[39m, \u001b[33m\"\u001b[39m\u001b[33mmaria\u001b[39m\u001b[33m\"\u001b[39m, \u001b[33m\"\u001b[39m\u001b[33mluis\u001b[39m\u001b[33m\"\u001b[39m],\n\u001b[32m      5\u001b[39m     \u001b[33m\"\u001b[39m\u001b[33mEdades\u001b[39m\u001b[33m\"\u001b[39m : [\u001b[32m20\u001b[39m,\u001b[32m30\u001b[39m,\u001b[32m40\u001b[39m],\n\u001b[32m      6\u001b[39m     \u001b[33m\"\u001b[39m\u001b[33mcuidades\u001b[39m\u001b[33m\"\u001b[39m : [\u001b[33m\"\u001b[39m\u001b[33mMadrid\u001b[39m\u001b[33m\"\u001b[39m, \u001b[33m\"\u001b[39m\u001b[33mBarcelona\u001b[39m\u001b[33m\"\u001b[39m, \u001b[33m\"\u001b[39m\u001b[33mValencia\u001b[39m\u001b[33m\"\u001b[39m],\n\u001b[32m      7\u001b[39m }\n\u001b[32m      8\u001b[39m dataset = pd.DataFrame(datos)\n",
      "\u001b[31mModuleNotFoundError\u001b[39m: No module named 'pandas'"
     ]
    }
   ],
   "source": [
    "# importando libreria \n",
    "import pandas as pd \n",
    "datos = {\n",
    "    \"nombre\" : [\"juan\", \"maria\", \"luis\"],\n",
    "    \"Edades\" : [20,30,40],\n",
    "    \"cuidades\" : [\"Madrid\", \"Barcelona\", \"Valencia\"],\n",
    "}\n",
    "dataset = pd.DataFrame(datos)\n",
    "print(\"la variable es de tipo: \", type(dataset))\n"
   ]
  }
 ],
 "metadata": {
  "kernelspec": {
   "display_name": "Python 3",
   "language": "python",
   "name": "python3"
  },
  "language_info": {
   "codemirror_mode": {
    "name": "ipython",
    "version": 3
   },
   "file_extension": ".py",
   "mimetype": "text/x-python",
   "name": "python",
   "nbconvert_exporter": "python",
   "pygments_lexer": "ipython3",
   "version": "3.13.3"
  }
 },
 "nbformat": 4,
 "nbformat_minor": 2
}
